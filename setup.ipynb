{
 "cells": [
  {
   "cell_type": "code",
   "execution_count": 10,
   "metadata": {
    "collapsed": true
   },
   "outputs": [],
   "source": [
    "import redshift_connector\n",
    "import configparser\n",
    "import sqlparse"
   ]
  },
  {
   "cell_type": "code",
   "execution_count": 11,
   "outputs": [
    {
     "data": {
      "text/plain": "['dwh.cfg']"
     },
     "execution_count": 11,
     "metadata": {},
     "output_type": "execute_result"
    }
   ],
   "source": [
    "config = configparser.ConfigParser()\n",
    "config.read(\"dwh.cfg\")"
   ],
   "metadata": {
    "collapsed": false,
    "pycharm": {
     "name": "#%%\n"
    }
   }
  },
  {
   "cell_type": "code",
   "execution_count": 12,
   "outputs": [],
   "source": [
    "conn = redshift_connector.connect(\n",
    "     host=config[\"CLUSTER\"][\"HOST\"],\n",
    "     database=config[\"CLUSTER\"][\"DB_NAME\"],\n",
    "     user=config[\"CLUSTER\"][\"DB_USER\"],\n",
    "     password=config[\"CLUSTER\"][\"DB_PASSWORD\"]\n",
    "  )\n"
   ],
   "metadata": {
    "collapsed": false,
    "pycharm": {
     "name": "#%%\n"
    }
   }
  },
  {
   "cell_type": "code",
   "execution_count": 18,
   "outputs": [
    {
     "name": "stdout",
     "output_type": "stream",
     "text": [
      "<redshift_connector.cursor.Cursor object at 0x7fd40a696150>\n",
      "<redshift_connector.cursor.Cursor object at 0x7fd40a696150>\n",
      "<redshift_connector.cursor.Cursor object at 0x7fd40a696150>\n",
      "<redshift_connector.cursor.Cursor object at 0x7fd40a696150>\n",
      "<redshift_connector.cursor.Cursor object at 0x7fd40a696150>\n",
      "<redshift_connector.cursor.Cursor object at 0x7fd40a696150>\n",
      "<redshift_connector.cursor.Cursor object at 0x7fd40a696150>\n"
     ]
    }
   ],
   "source": [
    "with open('create_tables.sql', 'r') as file:\n",
    "    raw_sql_file = file.read()\n",
    "    sql_stmts = sqlparse.split(raw_sql_file)\n",
    "\n",
    "    with conn.cursor() as cursor:\n",
    "        for stmt in sql_stmts:\n",
    "            cursor.execute(stmt)\n",
    "            conn.commit()"
   ],
   "metadata": {
    "collapsed": false,
    "pycharm": {
     "name": "#%%\n"
    }
   }
  },
  {
   "cell_type": "code",
   "execution_count": null,
   "outputs": [],
   "source": [],
   "metadata": {
    "collapsed": false,
    "pycharm": {
     "name": "#%%\n"
    }
   }
  }
 ],
 "metadata": {
  "kernelspec": {
   "display_name": "Python 3",
   "language": "python",
   "name": "python3"
  },
  "language_info": {
   "codemirror_mode": {
    "name": "ipython",
    "version": 2
   },
   "file_extension": ".py",
   "mimetype": "text/x-python",
   "name": "python",
   "nbconvert_exporter": "python",
   "pygments_lexer": "ipython2",
   "version": "2.7.6"
  }
 },
 "nbformat": 4,
 "nbformat_minor": 0
}